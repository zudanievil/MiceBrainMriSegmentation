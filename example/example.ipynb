{
 "cells": [
  {
   "cell_type": "code",
   "execution_count": 5,
   "id": "13b06598",
   "metadata": {},
   "outputs": [],
   "source": [
    "from pathlib import Path\n",
    "import sys\n",
    "import itertools\n",
    "import numpy as np\n",
    "import pandas as pd"
   ]
  },
  {
   "cell_type": "code",
   "execution_count": 9,
   "id": "8fe7a74d",
   "metadata": {},
   "outputs": [
    {
     "data": {
      "text/plain": [
       "'../'"
      ]
     },
     "execution_count": 9,
     "metadata": {},
     "output_type": "execute_result"
    }
   ],
   "source": [
    "sys.path.insert(0, \"../\")\n",
    "import mbs_lib.core.info_classes as IC\n",
    "sys.path.pop(0)"
   ]
  },
  {
   "cell_type": "code",
   "execution_count": 10,
   "id": "5aacfe40",
   "metadata": {},
   "outputs": [
    {
     "data": {
      "text/plain": [
       "['ElementTree',\n",
       " 'ImageFolderInfo',\n",
       " 'ImageInfo',\n",
       " 'OntologyFolderInfo',\n",
       " 'OntologyInfo',\n",
       " 'PIL',\n",
       " 'Path',\n",
       " 'SegmentationResultFolderInfo',\n",
       " '_DEFAULT_FOLDER_CONFIGURATIONS_STORAGE',\n",
       " '_IMAGE_FOLDER_CONFIGURATION_NAME',\n",
       " '_ONTOLOGY_FOLDER_CONFIGURATION_NAME',\n",
       " '_RESULTS_FOLDER_CONFIGURATION_NAME',\n",
       " '_STRING_REPLACED_WITH_IMAGE_FOLDER',\n",
       " '_STRING_REPLACED_WITH_ONTOLOGY_FOLDER',\n",
       " '__builtins__',\n",
       " '__cached__',\n",
       " '__doc__',\n",
       " '__file__',\n",
       " '__loader__',\n",
       " '__name__',\n",
       " '__package__',\n",
       " '__spec__',\n",
       " 'deepcopy',\n",
       " 'image_folder_info_like',\n",
       " 'image_info_iterator_type',\n",
       " 'image_info_like',\n",
       " 'np',\n",
       " 'ontology_folder_info_like',\n",
       " 'ontology_info_iterator_type',\n",
       " 'ontology_info_like',\n",
       " 'path_like',\n",
       " 'segmentation_result_folder_info_like',\n",
       " 'shutil',\n",
       " 'typing',\n",
       " 'yaml']"
      ]
     },
     "execution_count": 10,
     "metadata": {},
     "output_type": "execute_result"
    }
   ],
   "source": [
    "dir(IC)"
   ]
  },
  {
   "cell_type": "code",
   "execution_count": null,
   "id": "09f36461",
   "metadata": {},
   "outputs": [],
   "source": []
  }
 ],
 "metadata": {
  "kernelspec": {
   "display_name": "Python 3",
   "language": "python",
   "name": "python3"
  },
  "language_info": {
   "codemirror_mode": {
    "name": "ipython",
    "version": 3
   },
   "file_extension": ".py",
   "mimetype": "text/x-python",
   "name": "python",
   "nbconvert_exporter": "python",
   "pygments_lexer": "ipython3",
   "version": "3.7.10"
  }
 },
 "nbformat": 4,
 "nbformat_minor": 5
}
