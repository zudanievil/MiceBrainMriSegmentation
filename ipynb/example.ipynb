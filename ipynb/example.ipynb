{
  "nbformat": 4,
  "nbformat_minor": 0,
  "metadata": {
    "colab": {
      "name": "Copy of example.ipynb",
      "provenance": [],
      "collapsed_sections": []
    },
    "kernelspec": {
      "display_name": "Python 3",
      "language": "python",
      "name": "python3"
    },
    "language_info": {
      "codemirror_mode": {
        "name": "ipython",
        "version": 3
      },
      "file_extension": ".py",
      "mimetype": "text/x-python",
      "name": "python",
      "nbconvert_exporter": "python",
      "pygments_lexer": "ipython3",
      "version": "3.8.8"
    }
  },
  "cells": [
    {
      "cell_type": "markdown",
      "metadata": {
        "id": "NKH44B9OveGf"
      },
      "source": [
        "<a href=\"https://colab.research.google.com/github/zudanievil/MiceBrainMriSegmentation/blob/paper/ipynb/example.ipynb\" target=\"_parent\"><img src=\"https://colab.research.google.com/assets/colab-badge.svg\" alt=\"Open this notebook in Google Colab\"/></a>\n",
        "\n",
        "This notebook runs in Google Colab with no prior setup.\n",
        "\n",
        "You can also run it on a local python installation, but you will need to change some CAPITAL_CASE constants."
      ]
    },
    {
      "cell_type": "markdown",
      "metadata": {
        "id": "gRoa0Fl8tDL-"
      },
      "source": [
        "# Mice Brain Mri Segmentation #\n",
        "(actually, it can segment human scans as well. the repo name is a bit underthought)"
      ]
    },
    {
      "cell_type": "markdown",
      "metadata": {
        "id": "56C-1p2ktDMD"
      },
      "source": [
        "## Overview ##\n",
        "* These scripts allow to finenly segment raster images (MRI scans) using svg images (from histological brain atlas).\n",
        "* Atlas svg images and some other assets are retrieved from Allen Brain Institute web-service, which is free for academic and personal use.\n",
        "    * [Allen Brain Institute website](https://portal.brain-map.org/)\n",
        "    * [Mouse | Human brain atlases](http://atlas.brain-map.org/)\n",
        "    * [Allen Brain Institute API help](http://help.brain-map.org/display/api/Allen+Brain+Atlas+API)\n",
        "* This repository contains a collection of cohesive scripts, **not a Python package or an application**. One should know Python to use this.\n"
      ]
    },
    {
      "cell_type": "markdown",
      "metadata": {
        "id": "kgv0amwdzNiF"
      },
      "source": [
        "This notebook will guide through one through the demonstration of repo concept:\n",
        "1. [setup](#1.-Setup)\n",
        "1. [creating folders](#2a.-creating-folders) and nessesary files\n",
        "1. [manually segmenting the brains from the scans](#3.-manual-scan-segmentation)\n",
        "1. [bulk-downloading atlas images](#4a.-downloading-atlas-images) and generating raster masks from them\n",
        "1. [preprocessing scans before fine segmentation](#5.-preprocessing-scans)\n",
        "1. [fine-segmenting brains into anatomical regions](#6.-fine-anatomical-segmentation)\n",
        "1. [postprocessing segmentation results](#7.-aftermath)"
      ]
    },
    {
      "cell_type": "markdown",
      "metadata": {
        "id": "jGAJVyzbtDME"
      },
      "source": [
        "## 1. Setup\n",
        "You don't need anything to run this in Google Colab.\n",
        "\n",
        "To run this on a local machine:\n",
        "1. clone this repository\n",
        "1. install [Anaconda] package manager\n",
        "1. [create virtual environment from the file] named `conda_env.yml` contained in this repository\n",
        "1. install [Inkscape], install [ImageJ]\n",
        "1. it is best to install [PyCharm] for code editing, and [set up PyCharm to use Anaconda virtual environment]\n",
        "1. edit some CAPITAL_CASE constants in this notebook (see Constants section below)\n",
        "\n",
        "[Anaconda]: https://www.anaconda.com/products/individual\n",
        "[create virtual environment from the file]: https://docs.conda.io/projects/conda/en/latest/user-guide/tasks/manage-environments.html#creating-an-environment-from-an-environment-yml-file\n",
        "[PyCharm]: https://www.jetbrains.com/pycharm/download/\n",
        "[set up PyCharm to use Anaconda virtual environment]: https://www.jetbrains.com/help/pycharm/conda-support-creating-conda-virtual-environment.html\n",
        "[Inkscape]: https://inkscape.org/\n",
        "[ImageJ]: https://imagej.nih.gov/ij/download.html\n"
      ]
    },
    {
      "cell_type": "markdown",
      "metadata": {
        "id": "XpSmvXKUtDMH"
      },
      "source": [
        "### imports & utility functions"
      ]
    },
    {
      "cell_type": "code",
      "metadata": {
        "id": "or9_7gpKtDMK"
      },
      "source": [
        "import sys\n",
        "from pathlib import Path\n",
        "from urllib.request import urlretrieve\n",
        "from zipfile import ZipFile\n",
        "import yaml\n",
        "from shutil import copy as file_copy"
      ],
      "execution_count": 1,
      "outputs": []
    },
    {
      "cell_type": "code",
      "metadata": {
        "id": "AYtF9f3AtDMH",
        "cellView": "form"
      },
      "source": [
        "# @markdown some generic utility functions, used throughout the notebook\n",
        "\n",
        "def unzip(src: Path, dst: Path):\n",
        "    \"\"\"unzip a `.zip file located at `src` into `dst` folder\"\"\"\n",
        "    with ZipFile(src, 'r') as z:\n",
        "        z.extractall(dst)\n",
        "    \n",
        "    \n",
        "def rmdir_rec(folder: Path): #why didn't they implement it in the pathlib?\n",
        "    \"\"\"removes `folder` with all the contents\"\"\"\n",
        "    for f in folder.iterdir():\n",
        "        rmdir_rec(f) if f.is_dir() else f.unlink()\n",
        "    folder.rmdir()\n",
        "    \n",
        "    \n",
        "def merge_folders(src: Path, dst: Path, matching_files_policy: {\"skip\", \"replace\", \"rename\", \"error\"} = \"replace\"):\n",
        "    \"\"\"\n",
        "    recursively copies contents from the `src` folder to `dst` folder.\n",
        "    if files match, uses `matching_files_policy`:\n",
        "        - skip\n",
        "        - replace\n",
        "        - error: raises FileExistsError\n",
        "        - rename: adds \".copy\" suffix to filename, eg `a.txt` -> `a.copy.txt`\n",
        "    \"\"\"\n",
        "    assert matching_files_policy in {\"skip\", \"replace\", \"rename\", \"error\"}\n",
        "    \n",
        "    for path_src in src.iterdir():\n",
        "        path_dst = dst / path_src.name\n",
        "        if path_src.is_dir():\n",
        "            path_dst.mkdir(exist_ok=True)\n",
        "            merge_folders(path_src, path_dst, matching_files_policy)\n",
        "        else:\n",
        "            if path_dst.exists():\n",
        "                if matching_files_policy == \"error\":\n",
        "                    raise FileExistsError(path_dst)\n",
        "                elif matching_files_policy == \"replace\":\n",
        "                    path_dst.unlink()\n",
        "                elif matching_files_policy == \"rename\":\n",
        "                    while path_dst.exists():\n",
        "                        path_dst = path_dst.parent / (path_dst.stem + \".copy\" + path_dst.suffix)\n",
        "                else:\n",
        "                    continue\n",
        "            file_copy(path_src, path_dst)\n",
        "\n",
        "\n",
        "def fetch_unpack_zip(url: str, dst: Path) -> \"http message\":\n",
        "    \"\"\"\n",
        "    fetches example data from the cloud, \n",
        "    :returns http.client.HTTPMessage\n",
        "    \"\"\"\n",
        "    zip, msg = urlretrieve(url)\n",
        "    zip = Path(zip)\n",
        "    unzip(src=zip, dst=dst)\n",
        "    zip.unlink()\n",
        "    return msg\n",
        "\n",
        "\n",
        "def fetch_github_repo(\n",
        "    user: str, repo: str, branch: str, \n",
        "    dst_dir: Path, compression: {\"zipball\", \"tarball\"} = \"zipball\",\n",
        ") -> (str, \"http message\"):\n",
        "    url = f\"https://api.github.com/repos/{user}/{repo}/{compression}/{branch}\" \n",
        "    # https://docs.github.com/en/rest/reference/repos#download-a-repository-archive-tar\n",
        "    dst_dir = Path(\"/content\") \n",
        "    \n",
        "    zipball, msg = urlretrieve(url)\n",
        "    unzip(src=Path(zipball), dst=dst_dir)\n",
        "    Path(zipball).unlink()\n",
        "    for p in dst_dir.iterdir():\n",
        "        if p.name.startswith(f\"{user}-{repo}\"):\n",
        "            # there is a seemingly random number at the end of the folder name\n",
        "            new_p = p.parent / f\"{user}-{repo}\"\n",
        "            p.rename(new_p)\n",
        "            return str(new_p), msg\n",
        "\n",
        "\n",
        "def file_backup(p: Path):\n",
        "    file_copy(p, p.parent / (p.name + \".backup\"))\n",
        "\n",
        "\n",
        "def modify_info_folder_config(info_instance, keys: list, value: any):\n",
        "    config = info_instance.configuration()\n",
        "    config_path = info_instance.configuration_path()\n",
        "\n",
        "    c = config\n",
        "    for k in keys[0:-1]:\n",
        "        c = c[k]\n",
        "    c[keys[-1]] = value\n",
        "\n",
        "    with config_path.open(\"wt\") as f:\n",
        "        yaml.safe_dump(config, f)"
      ],
      "execution_count": 2,
      "outputs": []
    },
    {
      "cell_type": "markdown",
      "metadata": {
        "id": "RW_eDJH1tDMJ"
      },
      "source": [
        "### Constants"
      ]
    },
    {
      "cell_type": "code",
      "metadata": {
        "id": "VffZto_ftDMK"
      },
      "source": [
        "RUNTIME_IS_ON_GOOGLE_COLAB: bool = \"google.colab\" in sys.modules\n",
        "\n",
        "\n",
        "WORKING_DIR = \"/content/example\" if RUNTIME_IS_ON_GOOGLE_COLAB \\\n",
        "    else YOUR_TEMP_DIRECTORY  # if you run this locally, define a new non-existing directory\n",
        "\n",
        "\n",
        "# if on google colab, fetch whole repository from github\n",
        "if RUNTIME_IS_ON_GOOGLE_COLAB:\n",
        "    MBS_LIB_PATH, msg = fetch_github_repo(\n",
        "        user = \"zudanievil\",\n",
        "        repo = \"MiceBrainMriSegmentation\",\n",
        "        branch = \"paper\",\n",
        "        dst_dir = Path(\"/content\") # google VM directory for user contents\n",
        "    )\n",
        "    rmdir_rec(Path(\"/content/sample_data\")) # remove some toy datasets provided by google\n",
        "\n",
        "else:\n",
        "    MBS_LIB_PATH = \"../\""
      ],
      "execution_count": 3,
      "outputs": []
    },
    {
      "cell_type": "code",
      "metadata": {
        "id": "8NrIlEIO04Cj"
      },
      "source": [
        "DATA_DOWNLOAD_LINK = \"https://drive.google.com/uc?export=download&id=1sqmcICO01UdB6WUxvYcVsJVNlnvAVKBS\""
      ],
      "execution_count": 4,
      "outputs": []
    },
    {
      "cell_type": "code",
      "metadata": {
        "colab": {
          "base_uri": "https://localhost:8080/"
        },
        "id": "yEDVPVps77pf",
        "outputId": "900ca681-9028-4745-c60e-a5f2a837942e"
      },
      "source": [
        "# set path to inkscape executable\n",
        "\n",
        "if RUNTIME_IS_ON_GOOGLE_COLAB:\n",
        "    !apt install inkscape -y 2>&1 > /dev/null\n",
        "    !inkscape --version\n",
        "    INKSCAPE_EXE = \"inkscape\"\n",
        "else:\n",
        "    INKSCAPE_EXE = ...  # if you run this notebook locally, you need to paste your shell command for inkscape here "
      ],
      "execution_count": 5,
      "outputs": [
        {
          "output_type": "stream",
          "name": "stdout",
          "text": [
            "\n",
            "WARNING: apt does not have a stable CLI interface. Use with caution in scripts.\n",
            "\n",
            "Extracting templates from packages: 100%\n",
            "Inkscape 0.92.3 (2405546, 2018-03-11)\n"
          ]
        }
      ]
    },
    {
      "cell_type": "markdown",
      "metadata": {
        "id": "_JJnBUe9tDML"
      },
      "source": [
        "## 2a. creating folders ##\n",
        "classes `IC.ImageFolderInfo`, `IC.OntologyFolderInfo`, `IC.SegmentationResultsFolderInfo` contain `.write()` method that allows to conveniently create these folders in the filesystem"
      ]
    },
    {
      "cell_type": "code",
      "metadata": {
        "id": "2ZIlROTRtDML"
      },
      "source": [
        "working_dir = Path(WORKING_DIR)\n",
        "temp_dir = (working_dir / \"temp\").resolve()\n",
        "\n",
        "\n",
        "working_dir.mkdir(exist_ok=False, parents=True)\n",
        "temp_dir.mkdir(exist_ok=False)"
      ],
      "execution_count": 6,
      "outputs": []
    },
    {
      "cell_type": "code",
      "metadata": {
        "id": "-2H7ehOPveGy"
      },
      "source": [
        "sys.path.insert(0, MBS_LIB_PATH)\n",
        "from mbs_lib.core import info_classes as IC\n",
        "\n",
        "\n",
        "infos = {}\n",
        "\n",
        "infos[\"ontology\"] = IC.OntologyFolderInfo(working_dir/\"ontology\")\n",
        "infos[\"ontology\"].write()\n",
        "\n",
        "for i in {1, 2}:\n",
        "    \n",
        "    infos[f\"images_{i}\"] = IC.ImageFolderInfo(working_dir / f\"images_{i}\")\n",
        "    infos[f\"images_{i}\"].write()\n",
        "\n",
        "    infos[f\"results_{i}\"] = IC.SegmentationResultFolderInfo(\n",
        "        infos[f\"images_{i}\"], infos[\"ontology\"], folder=working_dir / f\"results_{i}\")\n",
        "    infos[f\"results_{i}\"].write()"
      ],
      "execution_count": 7,
      "outputs": []
    },
    {
      "cell_type": "markdown",
      "metadata": {
        "id": "rS3z1kk7tDML"
      },
      "source": [
        "## 2b. putting files into image folder ##\n",
        "* `lib/default_specifications` folder has configuration files that are copied by the `.write()` methods of info classes into the directory that they create. These are YAML files, that can be used to correct the `lib.pipelines` modules' behaviour.\n",
        "* `image_folder_specification.yml` that was is created in `c:/users/user/example/img` must be edited.\n",
        "* under the `file_name_fields` key there is a list of strings, that compose any file name that is related to image. one should give these fields names that correspond to current experiment parameters, like time, mice strain, etc.\n",
        "    > e.g. if configuration looks like this:\n",
        "    file_name_fields:\n",
        "        - a\n",
        "        - b\n",
        "        - c\n",
        "    then image file names are assumed to look like `{a}_{b}_{c}.npy`, and metadata names like `{a}_{b}_{c}.yml`. these names will be broken down by some scripts into \"dictionaries\" of {field_name: field_value}. For instance, name 10_20_xyz.npz will correspond to {\"a\":\"10\", \"b\":\"20\", \"c\":\"xyz\"}.  **It is possible to adjust cropped scan resolution based on the value of \"frame\" field through editing `cropped_image_shapes` in the image folder configuration.**\n",
        "* After that transfer the images into the `img_raw` subfolder of image folder, rename them according to the fields."
      ]
    },
    {
      "cell_type": "markdown",
      "metadata": {
        "id": "ti5lv0rG1dnu"
      },
      "source": [
        "**For demonstration purposes a small portion of our data is retrieved and visualized below**"
      ]
    },
    {
      "cell_type": "code",
      "metadata": {
        "id": "dOT9Neh1tDMM"
      },
      "source": [
        "fetch_unpack_zip(DATA_DOWNLOAD_LINK, temp_dir)\n",
        "example_data_dir = temp_dir / \"example\"\n",
        "\n",
        "merge_folders(example_data_dir, working_dir, \"replace\")\n",
        "rmdir_rec(example_data_dir)"
      ],
      "execution_count": 8,
      "outputs": []
    },
    {
      "cell_type": "markdown",
      "metadata": {
        "id": "q-H4SVL4tDMM"
      },
      "source": [
        "## 3. manual scan segmentation ##\n",
        "* manual scan segmentation is done by ImageJ program.\n",
        "* the result of the segmentation for each image is couple files that contain digits separated by tabulations and newlines (ImageJ scripts do not have sophisticated tools for file parsing and formatting). These files are collected by a python script into a single YAML metadata file, based on the values under `metadata keys` in the image folder configuration.\n",
        "* to segment images do the following:\n",
        "    1. make list of file names in `img_raw` subfolder, put it in the `ij_img_list.txt` file in the image folder, separated by newlines (only names, not the full paths). Create `ij_pointer.txt`, put 0 into it. Here is an easy way to o this:"
      ]
    },
    {
      "cell_type": "code",
      "metadata": {
        "id": "M4f_93bZtDMM"
      },
      "source": [
        "def list_raw_images(ifi: IC.ImageFolderInfo):\n",
        "    img_list_fname = ifi.folder()/\"ij_img_list.txt\"\n",
        "    img_idx_fname = ifi.folder()/\"ij_pointer.txt\"\n",
        "\n",
        "    with open(img_list_fname, \"wt\") as f:\n",
        "        for img in ifi.raw_iter():\n",
        "            print(img.name(), file=f)\n",
        "            \n",
        "    with open(img_idx_fname, \"wt\") as f:\n",
        "        print(0, file=f)\n",
        "\n",
        "\n",
        "for i in {1, 2}:\n",
        "    list_raw_images(infos[f\"images_{i}\"])"
      ],
      "execution_count": 9,
      "outputs": []
    },
    {
      "cell_type": "markdown",
      "metadata": {
        "id": "KG5AzfTn96_a"
      },
      "source": [
        "**Manual segmentation results in `.txt` files, which were fetched earlier along with images.**"
      ]
    },
    {
      "cell_type": "markdown",
      "metadata": {
        "id": "ZfXPsLDbtDMM"
      },
      "source": [
        "*   \n",
        "   2. Open the `lib/imagej_scripts/brain_segmentation_with_imagej.txt`, edit command for image opening according to [ImageJ macro guide] and [ImageJ macro functions list] to open your images (the function below comment `//IMAGE OPENING FUNCTION`). Initially it opens 32bit little-endian single channel 256x256, written as a C-array.\n",
        "   1. Open imagej, load that file as imagej macro: `macros > install > imagej`\n",
        "   1. Press `h` to open log window with the instructuions. follow the instructions.\n",
        "   1. Run collect `collect_image_metadata.main()` (cell below)\n",
        "   >you can find about metadata collection process and how to tune it with configuration editing if you run `help(collect_image_metadata.main)`\n",
        "   \n",
        "[ImageJ macro guide]: https://imagej.nih.gov/ij/developer/macro/macros.html#tools\n",
        "[ImageJ macro functions list]: https://imagej.nih.gov/ij/developer/macro/functions.html"
      ]
    },
    {
      "cell_type": "code",
      "metadata": {
        "id": "z_BatC7atDMN"
      },
      "source": [
        "from mbs_lib.pipelines import collect_image_metadata\n",
        "for i in {1, 2}:\n",
        "    collect_image_metadata.main(infos[f\"images_{i}\"])"
      ],
      "execution_count": 10,
      "outputs": []
    },
    {
      "cell_type": "markdown",
      "metadata": {
        "id": "L-wX4a02tDMN"
      },
      "source": [
        "## 4a. downloading atlas images ##\n",
        "variables for downloading are stored in `ontology_folder_specification.yml` file inside ontology folder that you've created above."
      ]
    },
    {
      "cell_type": "markdown",
      "metadata": {
        "id": "8GjiLdnwtDMN"
      },
      "source": [
        "1. Edit `atlas_id` and `svg_groups` (a table of them can be found [here](http://help.brain-map.org/display/api/Atlas+Drawings+and+Ontologies))"
      ]
    },
    {
      "cell_type": "code",
      "metadata": {
        "colab": {
          "base_uri": "https://localhost:8080/"
        },
        "id": "_-y82JYetDMN",
        "outputId": "822df6c5-2fb4-48e0-e665-365092d8fbd6"
      },
      "source": [
        "from mbs_lib.pipelines import download_svgs\n",
        "download_svgs.download_default_ontology(infos[\"ontology\"])"
      ],
      "execution_count": 11,
      "outputs": [
        {
          "output_type": "stream",
          "name": "stdout",
          "text": [
            "default ontology written to /content/example/ontology/onts/default.xml\n"
          ]
        }
      ]
    },
    {
      "cell_type": "markdown",
      "metadata": {
        "id": "ejwmY-GstDMO"
      },
      "source": [
        "2. Edit the `slice_coordinates` if you know the coordinates for the first slice and the last slice in the atlas. this allows you to download a list of slice ids and zip it with coordinate range using a script in the cell below (the table is just for utility purposes, you can skip this step)."
      ]
    },
    {
      "cell_type": "code",
      "metadata": {
        "colab": {
          "base_uri": "https://localhost:8080/"
        },
        "id": "ZKEvwOzFtDMO",
        "outputId": "fbcda9ed-6291-4e23-c98d-06a76eb3e299"
      },
      "source": [
        "download_svgs.download_slice_ids_table(infos[\"ontology\"])"
      ],
      "execution_count": 12,
      "outputs": [
        {
          "output_type": "stream",
          "name": "stdout",
          "text": [
            "saved section ids to /content/example/ontology/slice_ids.txt\n"
          ]
        }
      ]
    },
    {
      "cell_type": "markdown",
      "metadata": {
        "id": "FfC_EobxtDMO"
      },
      "source": [
        "Now you have a very readable (for an xml) `default.xml` tree of structures for the atlas, and probably a tabulation-separated table of slice ids.\n",
        "For each frame value in image names there should be an svg image with the same name. fill the ontology folder configuration  `svg_names_and_slice_ids` with pairs of `frame_field_value: slice_id`. run the script from the cell below to bulk-download the atlas vector images."
      ]
    },
    {
      "cell_type": "code",
      "metadata": {
        "colab": {
          "base_uri": "https://localhost:8080/"
        },
        "id": "sxMsAppptDMO",
        "outputId": "ce742780-544d-49b2-8469-33ec96fa3e60"
      },
      "source": [
        "# we've renamed the files in ontology folder config \n",
        "# so that they wouldn't overwrite svgs downloaded with example\n",
        "# feel free to explore the differences\n",
        "download_svgs.download_svgs(infos[\"ontology\"])"
      ],
      "execution_count": 13,
      "outputs": [
        {
          "output_type": "stream",
          "name": "stdout",
          "text": [
            "downloaded: /content/example/ontology/svgs/f14_downloaded.svg\n",
            "downloaded: /content/example/ontology/svgs/f17_downloaded.svg\n"
          ]
        }
      ]
    },
    {
      "cell_type": "markdown",
      "metadata": {
        "id": "ZztwBF4FtDMO"
      },
      "source": [
        "You can and need to manually edit the `.svg` masks with Inkscape, but note that some Inkscape functions can alter all xml attributes of the paths. structures for rendering are found by `structure_id` attributes of the paths, make sure, they are not deleted in the editing process.\n",
        "1. I advise to compute mean of all images for each frame and put it into a corresponding svg (the rendering pipeline ignores visible objects that do not have `structure_id` attribute, so you can leave image there).\n",
        "2. You **must** create a rectangle with xml attribute `structure_id='bbox'`, that will mark the border of the rendered masks (to edit xml attributes of objects from Inkscape, open the 'xml editor' tab.\n",
        "3. It's a good idea to slightly adjust nodes of atlas structures to fit the contours of the brain.\n",
        "4. Note that you can specify an arbitrary function to modify each mask right before the scan segmentation. Therefore you do need to flip/copy/crop the svg masks if only one hemisphere is covered and you need masks for both hemisperes, or otherwise. "
      ]
    },
    {
      "cell_type": "markdown",
      "metadata": {
        "id": "RpuNvNuGtDMP"
      },
      "source": [
        "## 4b. rendering raster masks ##\n",
        "For this one needs to edit `inkscape_executable_path` value in the ontology folder's configuration. \n",
        "The rendering pipeline uses image folder configuration `cropped_image_shapes` values for determining mask sizes.\n",
        "Details about process can be found in `prerender_masks.main` function documentation. This process might take several hours, but is easily parallelized by calling pipeline from different processes for only a part of all frames."
      ]
    },
    {
      "cell_type": "code",
      "metadata": {
        "id": "oiByW_W2JjtQ"
      },
      "source": [
        "# let's set up inkscape executable command:\n",
        "file_backup(infos[\"ontology\"].configuration_path())\n",
        "modify_info_folder_config(\n",
        "    info_instance = infos[\"ontology\"], \n",
        "    keys = [\"rendering_constants\", \"inkscape_executable\"], \n",
        "    value = INKSCAPE_EXE,\n",
        ")"
      ],
      "execution_count": 14,
      "outputs": []
    },
    {
      "cell_type": "code",
      "metadata": {
        "colab": {
          "base_uri": "https://localhost:8080/"
        },
        "id": "zlWDvgr8tDMP",
        "outputId": "4abada45-7f69-426e-b925-fb9e9632ab4e"
      },
      "source": [
        "from mbs_lib.pipelines import prerender_masks\n",
        "# prerender_masks needs `ImageFolderInfo` configuration file to acqire shapes for masks.\n",
        "# we will use masks prerendered for image folder 1 for both folder 1 and folder 2. \n",
        "prerender_masks.main(infos[\"ontology\"], infos[\"images_1\"], frames = [\"f14\", \"f17\"]) # we specify frames so that only these svgs will be used for mask generation"
      ],
      "execution_count": 15,
      "outputs": [
        {
          "output_type": "stream",
          "name": "stdout",
          "text": [
            "rendering for f14: 100%|█████████▉| 1326/1327 [00:26<00:00, 120.66it/s, Retina]               \n",
            "Total found structures 78\n",
            "rendering for f17: 100%|█████████▉| 1326/1327 [00:09<00:00, 117.08it/s, Retina]               \n",
            "Total found structures 15\n"
          ]
        }
      ]
    },
    {
      "cell_type": "markdown",
      "metadata": {
        "id": "99SYXawstDMP"
      },
      "source": [
        "## 5. preprocessing scans ##\n",
        "* Convert images to numpy native array format via `numpy.save()`, put them into `img` subfolder of the image folder.\n",
        "\n",
        "* The pipeline called below uses `cropped_image_shapes` key of the configuration and `frame` field value in the image name as well as some metadata keys to crop and resize the images."
      ]
    },
    {
      "cell_type": "code",
      "metadata": {
        "id": "cIeXrLigCjDs"
      },
      "source": [
        "import numpy as np\n",
        "\n",
        "\n",
        "def convert_raw_to_npy(ifi: IC.ImageFolderInfo, dtype=\"<i4\", shape=(256, 256)):\n",
        "    for img_info in ifi.raw_iter():\n",
        "        img = img_info.raw_image(dtype=dtype, shape=shape)\n",
        "        np.save(img_info.image_path(), img)\n",
        "\n",
        "\n",
        "for i in {1, 2}:\n",
        "    convert_raw_to_npy(infos[f\"images_{i}\"])"
      ],
      "execution_count": 16,
      "outputs": []
    },
    {
      "cell_type": "code",
      "metadata": {
        "colab": {
          "base_uri": "https://localhost:8080/"
        },
        "id": "nlljZn81tDMP",
        "outputId": "202e0daf-c6b8-4cbe-9341-221264193f77"
      },
      "source": [
        "from mbs_lib.pipelines import crop_images\n",
        "\n",
        "for i in {1, 2}:\n",
        "    crop_images.main(infos[f\"images_{i}\"])"
      ],
      "execution_count": 17,
      "outputs": [
        {
          "output_type": "stream",
          "name": "stderr",
          "text": [
            ""
          ]
        }
      ]
    },
    {
      "cell_type": "markdown",
      "metadata": {
        "id": "8vjMrugItDMP"
      },
      "source": [
        "To normalize image by intensity, we generate reference values and put them into metadata files. Later on you can choose which key to to use for image normalization. "
      ]
    },
    {
      "cell_type": "code",
      "metadata": {
        "colab": {
          "base_uri": "https://localhost:8080/"
        },
        "id": "speUA0jQtDMP",
        "outputId": "4b42684c-179e-4088-a4f0-c7defd99054c"
      },
      "source": [
        "from mbs_lib.pipelines import generate_intensity_reference\n",
        "\n",
        "for i in {1, 2}:\n",
        "    generate_intensity_reference.main(infos[f\"results_{i}\"])"
      ],
      "execution_count": 18,
      "outputs": [
        {
          "output_type": "stream",
          "name": "stderr",
          "text": [
            ""
          ]
        }
      ]
    },
    {
      "cell_type": "markdown",
      "metadata": {
        "id": "AoJALY6ptDMQ"
      },
      "source": [
        "## 6. fine anatomical segmentation\n",
        "1. You need to specify a tabulation-separated table which contains names of images. Table header specifies, from which columns images fall into 'control' group and from which -- into the 'effect' group. images from the one row constitute a batch and are compared against each other. the `batch_for_comparison` pipeline can create this table. Note that one can easily edit this table in MS Excel/Libre Office, etc.\n",
        "You can find about how to control pipeline behaviour through a result folder configuration in the `batch_for_comparison.main` description."
      ]
    },
    {
      "cell_type": "code",
      "metadata": {
        "id": "Y3a3ZUqcXyX7"
      },
      "source": [
        "# change reference hour and title for debugging plots\n",
        "for i in {1, 2}:\n",
        "    file_backup(infos[f\"results_{i}\"].configuration_path())\n",
        "\n",
        "    modify_info_folder_config(\n",
        "        info_instance = infos[f\"results_{i}\"], \n",
        "        keys = [\"batching\", \"comparison_reference_value\"], \n",
        "        value = \"3\",\n",
        "    )\n",
        "    modify_info_folder_config(\n",
        "        info_instance = infos[f\"results_{i}\"],\n",
        "        keys = [\"comparison\", \"plot_title\"],\n",
        "        value = \"3h vs {hour}, frame: {frame} p-value and mean relative intensity\",\n",
        "    )"
      ],
      "execution_count": 19,
      "outputs": []
    },
    {
      "cell_type": "code",
      "metadata": {
        "id": "tIcojlfptDMQ"
      },
      "source": [
        "from mbs_lib.pipelines import batch_for_comparison\n",
        "\n",
        "for i in {1, 2}:\n",
        "    batch_for_comparison.main(infos[f\"results_{i}\"])"
      ],
      "execution_count": 20,
      "outputs": []
    },
    {
      "cell_type": "markdown",
      "metadata": {
        "id": "PwAvtxratDMR"
      },
      "source": [
        "2. please read the `compare_and_segment.main` help for detalis on how to control it's behaviour with configuration file and some other files, that can be created in the `spec` subfolder of results folder."
      ]
    },
    {
      "cell_type": "code",
      "metadata": {
        "id": "6T_2NHpGsCOu"
      },
      "source": [
        "# mask permutation for brain structure masks. this is optional\n",
        "mask_permutation_script = \"\"\"\n",
        "import numpy as np\n",
        "\n",
        "def mask_permutation(mask: \"np.ndarray[bool]\") -> \"np.ndarray[bool]\":\n",
        "    # flip masks horizontally\n",
        "    return np.flip(mask, axis = 1)\n",
        "\"\"\"\n",
        "\n",
        "for i in {1, 2}:\n",
        "    with infos[f\"results_{i}\"].mask_permutation_path().open(\"wt\") as script_file:\n",
        "        script_file.write(mask_permutation_script)\n"
      ],
      "execution_count": 51,
      "outputs": []
    },
    {
      "cell_type": "code",
      "metadata": {
        "id": "RL_f8p4plg5U"
      },
      "source": [
        "# list of structures for the segmentation. this is optional\n",
        "structure_list = [\n",
        "    \"Main Olfactory Bulb\",\n",
        "    \"Lateral Olfactory Tract General\",\n",
        "    \"Anterior Olfactory Nucleus\",\n",
        "    \"Anterior Olfactory Nucleus Lateral Part\",\n",
        "    \"Piriform Area\",\n",
        "    \"Entorhinal Area\",\n",
        "    \"Cortical Amygdalar Area\",\n",
        "    \"Olfactory Tubercle\",\n",
        "    \"Piriform-Amygdalar Area\",\n",
        "]\n",
        "\n",
        "\n",
        "for i in {1, 2}:\n",
        "    with infos[f\"results_{i}\"].structure_list_path().open(\"wt\") as list_file:\n",
        "        list_file.write(\"\\n\".join(structure_list))"
      ],
      "execution_count": 52,
      "outputs": []
    },
    {
      "cell_type": "code",
      "metadata": {
        "colab": {
          "base_uri": "https://localhost:8080/"
        },
        "id": "KLAkQJM6tDMR",
        "outputId": "0fdec97d-cab7-4f97-8364-9bed080ca01d"
      },
      "source": [
        "from mbs_lib.pipelines import compare_and_segment\n",
        "\n",
        "for i in {1, 2}:\n",
        "    print(f\"processing: results_{i}\")\n",
        "    compare_and_segment.main(infos[f\"results_{i}\"])"
      ],
      "execution_count": 53,
      "outputs": [
        {
          "output_type": "stream",
          "name": "stdout",
          "text": [
            "processing: results_1\n"
          ]
        },
        {
          "output_type": "stream",
          "name": "stderr",
          "text": [
            "  0%|          | 0/2 [00:00<?, ?it/s, 0]/content/zudanievil-MiceBrainMriSegmentation/mbs_lib/pipelines/compare_and_segment.py:185: UserWarning: No contour levels were found within the data range.\n",
            "  axs[0].contour(structure_mask, **spec['contour_kwargs'])\n",
            "/content/zudanievil-MiceBrainMriSegmentation/mbs_lib/pipelines/compare_and_segment.py:186: UserWarning: No contour levels were found within the data range.\n",
            "  axs[1].contour(structure_mask, **spec['contour_kwargs'])\n"
          ]
        },
        {
          "output_type": "stream",
          "name": "stdout",
          "text": [
            "processing: results_2\n"
          ]
        },
        {
          "output_type": "stream",
          "name": "stderr",
          "text": [
            ""
          ]
        }
      ]
    },
    {
      "cell_type": "markdown",
      "metadata": {
        "id": "5ldUty6atDMR"
      },
      "source": [
        "3. segmentation results are saved into a temporary folder to save RAM and allow parallel execution (by running several processes and supplying `batch_range` argument to  `compare_and_segment.main`). Because of this design choice, segmentation results' pieces are aggregated by a separate function. You also need to delete temp folder yourself."
      ]
    },
    {
      "cell_type": "code",
      "metadata": {
        "id": "gO1tMgHItDMS"
      },
      "source": [
        "for i in {1, 2}:\n",
        "    compare_and_segment.collect_segmentation_results(infos[f\"results_{i}\"])\n",
        "    # rmdir_rec(infos[f\"results_{i}\"].segmentation_temp())"
      ],
      "execution_count": 54,
      "outputs": []
    },
    {
      "cell_type": "markdown",
      "metadata": {
        "id": "FvGXELz3tDMS"
      },
      "source": [
        "## 7. aftermath\n",
        "There are some scripts for processing the results table. Consult with their descriptions to understand what do they do.\n",
        "also there is an execute_all script, that just calls them in a logical order (some scripts depend on each other). They also use configuration for the results folder."
      ]
    },
    {
      "cell_type": "code",
      "metadata": {
        "id": "qRwx_fEgtDMS"
      },
      "source": [
        "from mbs_lib.pipelines import combine_results\n",
        "\n",
        "\n",
        "summary_path = working_dir / \"summary.txt\"\n",
        "\n",
        "use_structures = None\n",
        "\n",
        "combine_results.main(\n",
        "    srfis = [infos[f\"results_{i}\"] for i in {1, 2}],\n",
        "    save_path = summary_path,\n",
        "    result_namer = lambda folder_name: {\"group\": int(folder_name.split(\"_\")[1])},\n",
        "    structures = use_structures,\n",
        ")"
      ],
      "execution_count": 55,
      "outputs": []
    },
    {
      "cell_type": "code",
      "metadata": {
        "id": "4VE9DnPJff7j"
      },
      "source": [
        "import pandas as pd\n",
        "\n",
        "def wrangle_summary(t: pd.DataFrame) -> pd.DataFrame:\n",
        "    _hour = \"hour\"\n",
        "    t.set_index([\"group\", \"structure\", \"hour\", \"frame\", \"animal\"], inplace=True)\n",
        "    sign_px = (t[\"px (p <0.05)\"] / t[\"px (p <1)\"] * 100).unstack(_hour)\n",
        "    t = t['mean (p <1)'].unstack(_hour)\n",
        "    t['%sign px'] = sign_px.apply(np.max, axis=1)\n",
        "    return t\n",
        "\n",
        "wrangled_summary = working_dir / \"wrangled_summary.txt\"\n",
        "table = wrangle_summary(pd.read_csv(summary_path, sep='\\t'))\n",
        "table.to_csv(wrangled_summary, sep=\"\\t\")"
      ],
      "execution_count": 56,
      "outputs": []
    },
    {
      "cell_type": "code",
      "metadata": {
        "colab": {
          "base_uri": "https://localhost:8080/",
          "height": 1000
        },
        "id": "3KEJNso3fBxZ",
        "outputId": "9358cd10-fbbf-478e-80c8-3d1a95aed7b0"
      },
      "source": [
        "table[table[\"%sign px\"] > 5]"
      ],
      "execution_count": 57,
      "outputs": [
        {
          "output_type": "execute_result",
          "data": {
            "text/html": [
              "<div>\n",
              "<style scoped>\n",
              "    .dataframe tbody tr th:only-of-type {\n",
              "        vertical-align: middle;\n",
              "    }\n",
              "\n",
              "    .dataframe tbody tr th {\n",
              "        vertical-align: top;\n",
              "    }\n",
              "\n",
              "    .dataframe thead th {\n",
              "        text-align: right;\n",
              "    }\n",
              "</style>\n",
              "<table border=\"1\" class=\"dataframe\">\n",
              "  <thead>\n",
              "    <tr style=\"text-align: right;\">\n",
              "      <th></th>\n",
              "      <th></th>\n",
              "      <th></th>\n",
              "      <th>hour</th>\n",
              "      <th>3</th>\n",
              "      <th>24</th>\n",
              "      <th>%sign px</th>\n",
              "    </tr>\n",
              "    <tr>\n",
              "      <th>group</th>\n",
              "      <th>structure</th>\n",
              "      <th>frame</th>\n",
              "      <th>animal</th>\n",
              "      <th></th>\n",
              "      <th></th>\n",
              "      <th></th>\n",
              "    </tr>\n",
              "  </thead>\n",
              "  <tbody>\n",
              "    <tr>\n",
              "      <th rowspan=\"24\" valign=\"top\">1</th>\n",
              "      <th rowspan=\"6\" valign=\"top\">Anterior Olfactory Nucleus</th>\n",
              "      <th rowspan=\"6\" valign=\"top\">f14</th>\n",
              "      <th>1</th>\n",
              "      <td>0.886310</td>\n",
              "      <td>1.086082</td>\n",
              "      <td>15.151515</td>\n",
              "    </tr>\n",
              "    <tr>\n",
              "      <th>2</th>\n",
              "      <td>1.001193</td>\n",
              "      <td>1.157073</td>\n",
              "      <td>15.151515</td>\n",
              "    </tr>\n",
              "    <tr>\n",
              "      <th>3</th>\n",
              "      <td>0.860200</td>\n",
              "      <td>1.292423</td>\n",
              "      <td>15.151515</td>\n",
              "    </tr>\n",
              "    <tr>\n",
              "      <th>4</th>\n",
              "      <td>0.975791</td>\n",
              "      <td>1.423823</td>\n",
              "      <td>15.151515</td>\n",
              "    </tr>\n",
              "    <tr>\n",
              "      <th>5</th>\n",
              "      <td>0.947356</td>\n",
              "      <td>1.189467</td>\n",
              "      <td>15.151515</td>\n",
              "    </tr>\n",
              "    <tr>\n",
              "      <th>6</th>\n",
              "      <td>0.805505</td>\n",
              "      <td>1.049609</td>\n",
              "      <td>15.151515</td>\n",
              "    </tr>\n",
              "    <tr>\n",
              "      <th rowspan=\"6\" valign=\"top\">Lateral Olfactory Tract General</th>\n",
              "      <th rowspan=\"6\" valign=\"top\">f14</th>\n",
              "      <th>1</th>\n",
              "      <td>0.666617</td>\n",
              "      <td>1.940812</td>\n",
              "      <td>100.000000</td>\n",
              "    </tr>\n",
              "    <tr>\n",
              "      <th>2</th>\n",
              "      <td>0.677714</td>\n",
              "      <td>1.805579</td>\n",
              "      <td>100.000000</td>\n",
              "    </tr>\n",
              "    <tr>\n",
              "      <th>3</th>\n",
              "      <td>0.341608</td>\n",
              "      <td>2.462008</td>\n",
              "      <td>100.000000</td>\n",
              "    </tr>\n",
              "    <tr>\n",
              "      <th>4</th>\n",
              "      <td>1.155533</td>\n",
              "      <td>2.543189</td>\n",
              "      <td>100.000000</td>\n",
              "    </tr>\n",
              "    <tr>\n",
              "      <th>5</th>\n",
              "      <td>0.878539</td>\n",
              "      <td>1.273480</td>\n",
              "      <td>100.000000</td>\n",
              "    </tr>\n",
              "    <tr>\n",
              "      <th>6</th>\n",
              "      <td>0.703358</td>\n",
              "      <td>1.284123</td>\n",
              "      <td>100.000000</td>\n",
              "    </tr>\n",
              "    <tr>\n",
              "      <th rowspan=\"6\" valign=\"top\">Main Olfactory Bulb</th>\n",
              "      <th rowspan=\"6\" valign=\"top\">f17</th>\n",
              "      <th>1</th>\n",
              "      <td>1.379646</td>\n",
              "      <td>2.657608</td>\n",
              "      <td>81.567489</td>\n",
              "    </tr>\n",
              "    <tr>\n",
              "      <th>2</th>\n",
              "      <td>1.490358</td>\n",
              "      <td>2.699849</td>\n",
              "      <td>81.567489</td>\n",
              "    </tr>\n",
              "    <tr>\n",
              "      <th>3</th>\n",
              "      <td>1.798547</td>\n",
              "      <td>3.057420</td>\n",
              "      <td>81.567489</td>\n",
              "    </tr>\n",
              "    <tr>\n",
              "      <th>4</th>\n",
              "      <td>1.606615</td>\n",
              "      <td>3.069542</td>\n",
              "      <td>81.567489</td>\n",
              "    </tr>\n",
              "    <tr>\n",
              "      <th>5</th>\n",
              "      <td>1.493458</td>\n",
              "      <td>3.108177</td>\n",
              "      <td>81.567489</td>\n",
              "    </tr>\n",
              "    <tr>\n",
              "      <th>6</th>\n",
              "      <td>1.071758</td>\n",
              "      <td>2.890222</td>\n",
              "      <td>81.567489</td>\n",
              "    </tr>\n",
              "    <tr>\n",
              "      <th rowspan=\"6\" valign=\"top\">Piriform Area</th>\n",
              "      <th rowspan=\"6\" valign=\"top\">f14</th>\n",
              "      <th>1</th>\n",
              "      <td>0.981146</td>\n",
              "      <td>1.416460</td>\n",
              "      <td>55.801105</td>\n",
              "    </tr>\n",
              "    <tr>\n",
              "      <th>2</th>\n",
              "      <td>1.127886</td>\n",
              "      <td>1.459982</td>\n",
              "      <td>55.801105</td>\n",
              "    </tr>\n",
              "    <tr>\n",
              "      <th>3</th>\n",
              "      <td>1.045761</td>\n",
              "      <td>1.918854</td>\n",
              "      <td>55.801105</td>\n",
              "    </tr>\n",
              "    <tr>\n",
              "      <th>4</th>\n",
              "      <td>1.079303</td>\n",
              "      <td>1.987853</td>\n",
              "      <td>55.801105</td>\n",
              "    </tr>\n",
              "    <tr>\n",
              "      <th>5</th>\n",
              "      <td>0.850260</td>\n",
              "      <td>1.320270</td>\n",
              "      <td>55.801105</td>\n",
              "    </tr>\n",
              "    <tr>\n",
              "      <th>6</th>\n",
              "      <td>0.715715</td>\n",
              "      <td>1.092667</td>\n",
              "      <td>55.801105</td>\n",
              "    </tr>\n",
              "    <tr>\n",
              "      <th rowspan=\"24\" valign=\"top\">2</th>\n",
              "      <th rowspan=\"6\" valign=\"top\">Anterior Olfactory Nucleus</th>\n",
              "      <th rowspan=\"6\" valign=\"top\">f14</th>\n",
              "      <th>1</th>\n",
              "      <td>0.892359</td>\n",
              "      <td>1.066497</td>\n",
              "      <td>5.627706</td>\n",
              "    </tr>\n",
              "    <tr>\n",
              "      <th>2</th>\n",
              "      <td>0.875411</td>\n",
              "      <td>1.099593</td>\n",
              "      <td>5.627706</td>\n",
              "    </tr>\n",
              "    <tr>\n",
              "      <th>3</th>\n",
              "      <td>0.765864</td>\n",
              "      <td>0.694833</td>\n",
              "      <td>5.627706</td>\n",
              "    </tr>\n",
              "    <tr>\n",
              "      <th>4</th>\n",
              "      <td>0.913727</td>\n",
              "      <td>1.199606</td>\n",
              "      <td>5.627706</td>\n",
              "    </tr>\n",
              "    <tr>\n",
              "      <th>5</th>\n",
              "      <td>0.795673</td>\n",
              "      <td>1.060277</td>\n",
              "      <td>5.627706</td>\n",
              "    </tr>\n",
              "    <tr>\n",
              "      <th>6</th>\n",
              "      <td>0.824203</td>\n",
              "      <td>1.179855</td>\n",
              "      <td>5.627706</td>\n",
              "    </tr>\n",
              "    <tr>\n",
              "      <th rowspan=\"6\" valign=\"top\">Lateral Olfactory Tract General</th>\n",
              "      <th rowspan=\"6\" valign=\"top\">f14</th>\n",
              "      <th>1</th>\n",
              "      <td>1.011411</td>\n",
              "      <td>1.588399</td>\n",
              "      <td>73.076923</td>\n",
              "    </tr>\n",
              "    <tr>\n",
              "      <th>2</th>\n",
              "      <td>1.039216</td>\n",
              "      <td>2.248526</td>\n",
              "      <td>73.076923</td>\n",
              "    </tr>\n",
              "    <tr>\n",
              "      <th>3</th>\n",
              "      <td>1.117907</td>\n",
              "      <td>0.942431</td>\n",
              "      <td>73.076923</td>\n",
              "    </tr>\n",
              "    <tr>\n",
              "      <th>4</th>\n",
              "      <td>1.029560</td>\n",
              "      <td>2.114703</td>\n",
              "      <td>73.076923</td>\n",
              "    </tr>\n",
              "    <tr>\n",
              "      <th>5</th>\n",
              "      <td>0.885072</td>\n",
              "      <td>1.359892</td>\n",
              "      <td>73.076923</td>\n",
              "    </tr>\n",
              "    <tr>\n",
              "      <th>6</th>\n",
              "      <td>1.012107</td>\n",
              "      <td>2.311072</td>\n",
              "      <td>73.076923</td>\n",
              "    </tr>\n",
              "    <tr>\n",
              "      <th rowspan=\"6\" valign=\"top\">Main Olfactory Bulb</th>\n",
              "      <th rowspan=\"6\" valign=\"top\">f17</th>\n",
              "      <th>1</th>\n",
              "      <td>1.067318</td>\n",
              "      <td>2.159364</td>\n",
              "      <td>79.825835</td>\n",
              "    </tr>\n",
              "    <tr>\n",
              "      <th>2</th>\n",
              "      <td>1.357187</td>\n",
              "      <td>2.654423</td>\n",
              "      <td>79.825835</td>\n",
              "    </tr>\n",
              "    <tr>\n",
              "      <th>3</th>\n",
              "      <td>0.849141</td>\n",
              "      <td>1.086732</td>\n",
              "      <td>79.825835</td>\n",
              "    </tr>\n",
              "    <tr>\n",
              "      <th>4</th>\n",
              "      <td>1.440343</td>\n",
              "      <td>2.549493</td>\n",
              "      <td>79.825835</td>\n",
              "    </tr>\n",
              "    <tr>\n",
              "      <th>5</th>\n",
              "      <td>1.096192</td>\n",
              "      <td>1.716090</td>\n",
              "      <td>79.825835</td>\n",
              "    </tr>\n",
              "    <tr>\n",
              "      <th>6</th>\n",
              "      <td>1.478298</td>\n",
              "      <td>2.783329</td>\n",
              "      <td>79.825835</td>\n",
              "    </tr>\n",
              "    <tr>\n",
              "      <th rowspan=\"6\" valign=\"top\">Piriform Area</th>\n",
              "      <th rowspan=\"6\" valign=\"top\">f14</th>\n",
              "      <th>1</th>\n",
              "      <td>0.931443</td>\n",
              "      <td>1.298652</td>\n",
              "      <td>43.093923</td>\n",
              "    </tr>\n",
              "    <tr>\n",
              "      <th>2</th>\n",
              "      <td>0.975124</td>\n",
              "      <td>1.491166</td>\n",
              "      <td>43.093923</td>\n",
              "    </tr>\n",
              "    <tr>\n",
              "      <th>3</th>\n",
              "      <td>0.815659</td>\n",
              "      <td>0.871139</td>\n",
              "      <td>43.093923</td>\n",
              "    </tr>\n",
              "    <tr>\n",
              "      <th>4</th>\n",
              "      <td>0.961427</td>\n",
              "      <td>1.503516</td>\n",
              "      <td>43.093923</td>\n",
              "    </tr>\n",
              "    <tr>\n",
              "      <th>5</th>\n",
              "      <td>0.841327</td>\n",
              "      <td>1.257054</td>\n",
              "      <td>43.093923</td>\n",
              "    </tr>\n",
              "    <tr>\n",
              "      <th>6</th>\n",
              "      <td>0.866085</td>\n",
              "      <td>1.561422</td>\n",
              "      <td>43.093923</td>\n",
              "    </tr>\n",
              "  </tbody>\n",
              "</table>\n",
              "</div>"
            ],
            "text/plain": [
              "hour                                                       3  ...    %sign px\n",
              "group structure                       frame animal            ...            \n",
              "1     Anterior Olfactory Nucleus      f14   1       0.886310  ...   15.151515\n",
              "                                            2       1.001193  ...   15.151515\n",
              "                                            3       0.860200  ...   15.151515\n",
              "                                            4       0.975791  ...   15.151515\n",
              "                                            5       0.947356  ...   15.151515\n",
              "                                            6       0.805505  ...   15.151515\n",
              "      Lateral Olfactory Tract General f14   1       0.666617  ...  100.000000\n",
              "                                            2       0.677714  ...  100.000000\n",
              "                                            3       0.341608  ...  100.000000\n",
              "                                            4       1.155533  ...  100.000000\n",
              "                                            5       0.878539  ...  100.000000\n",
              "                                            6       0.703358  ...  100.000000\n",
              "      Main Olfactory Bulb             f17   1       1.379646  ...   81.567489\n",
              "                                            2       1.490358  ...   81.567489\n",
              "                                            3       1.798547  ...   81.567489\n",
              "                                            4       1.606615  ...   81.567489\n",
              "                                            5       1.493458  ...   81.567489\n",
              "                                            6       1.071758  ...   81.567489\n",
              "      Piriform Area                   f14   1       0.981146  ...   55.801105\n",
              "                                            2       1.127886  ...   55.801105\n",
              "                                            3       1.045761  ...   55.801105\n",
              "                                            4       1.079303  ...   55.801105\n",
              "                                            5       0.850260  ...   55.801105\n",
              "                                            6       0.715715  ...   55.801105\n",
              "2     Anterior Olfactory Nucleus      f14   1       0.892359  ...    5.627706\n",
              "                                            2       0.875411  ...    5.627706\n",
              "                                            3       0.765864  ...    5.627706\n",
              "                                            4       0.913727  ...    5.627706\n",
              "                                            5       0.795673  ...    5.627706\n",
              "                                            6       0.824203  ...    5.627706\n",
              "      Lateral Olfactory Tract General f14   1       1.011411  ...   73.076923\n",
              "                                            2       1.039216  ...   73.076923\n",
              "                                            3       1.117907  ...   73.076923\n",
              "                                            4       1.029560  ...   73.076923\n",
              "                                            5       0.885072  ...   73.076923\n",
              "                                            6       1.012107  ...   73.076923\n",
              "      Main Olfactory Bulb             f17   1       1.067318  ...   79.825835\n",
              "                                            2       1.357187  ...   79.825835\n",
              "                                            3       0.849141  ...   79.825835\n",
              "                                            4       1.440343  ...   79.825835\n",
              "                                            5       1.096192  ...   79.825835\n",
              "                                            6       1.478298  ...   79.825835\n",
              "      Piriform Area                   f14   1       0.931443  ...   43.093923\n",
              "                                            2       0.975124  ...   43.093923\n",
              "                                            3       0.815659  ...   43.093923\n",
              "                                            4       0.961427  ...   43.093923\n",
              "                                            5       0.841327  ...   43.093923\n",
              "                                            6       0.866085  ...   43.093923\n",
              "\n",
              "[48 rows x 3 columns]"
            ]
          },
          "metadata": {},
          "execution_count": 57
        }
      ]
    },
    {
      "cell_type": "code",
      "metadata": {
        "id": "AIDbgcJLsjL7"
      },
      "source": [
        "# TODO: Add visualizations"
      ],
      "execution_count": null,
      "outputs": []
    }
  ]
}